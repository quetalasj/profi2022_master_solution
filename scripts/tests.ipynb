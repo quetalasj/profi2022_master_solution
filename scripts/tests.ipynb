{
 "cells": [
  {
   "cell_type": "code",
   "execution_count": 13,
   "id": "da7bba35-9222-4938-9ebd-7c9af9e162de",
   "metadata": {},
   "outputs": [],
   "source": [
    "import cv2\n",
    "import numpy as np\n",
    "import matplotlib.pyplot as plt\n",
    "from scipy.signal import convolve2d\n",
    "\n",
    "from profi.camera.socks_behaviours import ColorCirclesSocks\n",
    "from profi.camera.tracking_behaviour import YellowRobotTracking\n",
    "from profi.camera.mapping_behavour import ColorMapping"
   ]
  },
  {
   "cell_type": "code",
   "execution_count": 3,
   "id": "df3c2889-586f-4a51-be97-2ec4f27d217d",
   "metadata": {},
   "outputs": [],
   "source": [
    "def imshow(image, figsize=(10,8)):\n",
    "    # image = cv2.cvtColor(image, cv2.COLOR_BGR2RGB)\n",
    "    plt.figure(figsize=figsize)\n",
    "    plt.imshow(image)\n",
    "    plt.show()"
   ]
  },
  {
   "cell_type": "code",
   "execution_count": 6,
   "id": "8a5a00fc-d0b1-4bce-b2be-56db2d63e9ce",
   "metadata": {},
   "outputs": [],
   "source": [
    "images_path = \"/home/quetalasj/profi/profi2022_robotics/workspace\""
   ]
  },
  {
   "cell_type": "code",
   "execution_count": 9,
   "id": "74b55971-15ae-4211-ab5e-c6b9ab25ba9f",
   "metadata": {},
   "outputs": [],
   "source": [
    "\n",
    "# free_map = 1 - np.clip(cv2.imread(f'{images_path}/frame-image.png', cv2.IMREAD_GRAYSCALE), 0, 1)\n",
    "# plt.figure(figsize=(10,8))\n",
    "# plt.imshow(free_map)\n",
    "# plt.colorbar()\n",
    "# plt.show()"
   ]
  },
  {
   "cell_type": "code",
   "execution_count": 51,
   "id": "1ec394c3-19dc-45f4-8ee0-c1e0fe179666",
   "metadata": {},
   "outputs": [
    {
     "data": {
      "image/png": "[encoded data removed]",
      "text/plain": [
       "<Figure size 720x576 with 2 Axes>"
      ]
     },
     "metadata": {
      "needs_background": "light"
     },
     "output_type": "display_data"
    }
   ],
   "source": [
    "\n",
    "cv_image = cv2.imread(f'{images_path}/frame-image.png')\n",
    "plt.figure(figsize=(10,8))\n",
    "plt.imshow(cv_image)\n",
    "plt.colorbar()\n",
    "plt.show()"
   ]
  },
  {
   "cell_type": "code",
   "execution_count": 52,
   "id": "db83608f-5fc9-4e41-bbab-33886556d699",
   "metadata": {},
   "outputs": [],
   "source": [
    "socks_behaviour = ColorCirclesSocks()\n",
    "robot_tracking_behaviour = YellowRobotTracking()\n",
    "mapping_behaviour = ColorMapping()"
   ]
  },
  {
   "cell_type": "code",
   "execution_count": 53,
   "id": "21e7ce62-803a-42ca-a5b2-cf49d2e9727b",
   "metadata": {},
   "outputs": [],
   "source": [
    "socks_centers, socks_contours, mask_socks_centers, socks_stats, num_socks, socks_labels \\\n",
    "                = socks_behaviour.detect(cv_image)"
   ]
  },
  {
   "cell_type": "code",
   "execution_count": 54,
   "id": "de06a517-b3fc-43bb-8968-858ceee56ad0",
   "metadata": {},
   "outputs": [
    {
     "name": "stdout",
     "output_type": "stream",
     "text": [
      "(97, 30, 0)\n",
      "[[345.          11.        ]\n",
      " [ 97.1         30.05      ]\n",
      " [536.          93.35294118]\n",
      " [421.11111111 132.72222222]\n",
      " [232.28571429 150.5       ]\n",
      " [519.5        177.        ]\n",
      " [ 96.5        219.5       ]\n",
      " [301.         267.5       ]\n",
      " [457.         320.5       ]\n",
      " [220.         376.5       ]\n",
      " [255.77777778 380.94444444]\n",
      " [465.23529412 408.94117647]\n",
      " [ 66.35294118 419.        ]\n",
      " [531.88888889 422.83333333]\n",
      " [303.5        431.        ]]\n"
     ]
    }
   ],
   "source": [
    "sockn = 1\n",
    "goal_point = int(round(socks_centers[sockn][0])), int(round(socks_centers[sockn][1])), int(round(0))\n",
    "print(goal_point)\n",
    "print(socks_centers)"
   ]
  },
  {
   "cell_type": "code",
   "execution_count": 55,
   "id": "3af3dc39-2ec0-455f-bcfe-8ab9f4654491",
   "metadata": {},
   "outputs": [
    {
     "data": {
      "text/plain": [
       "2"
      ]
     },
     "execution_count": 55,
     "metadata": {},
     "output_type": "execute_result"
    }
   ],
   "source": [
    "sock_label = 1 + np.argmin(np.abs(socks_centers - np.array([goal_point[0], goal_point[1]])), axis=0)[0]\n",
    "sock_label"
   ]
  },
  {
   "cell_type": "code",
   "execution_count": 57,
   "id": "6105954b-b19b-44cd-8891-9060a21fe7d1",
   "metadata": {},
   "outputs": [
    {
     "data": {
      "image/png": "[encoded data removed]",
      "text/plain": [
       "<Figure size 720x576 with 1 Axes>"
      ]
     },
     "metadata": {
      "needs_background": "light"
     },
     "output_type": "display_data"
    }
   ],
   "source": [
    "imshow(mask_socks_centers)"
   ]
  },
  {
   "cell_type": "code",
   "execution_count": 60,
   "id": "7bfb606d-0675-4075-ae95-01f1508af89d",
   "metadata": {},
   "outputs": [],
   "source": [
    "start_point = (291, 241, 0)"
   ]
  },
  {
   "cell_type": "code",
   "execution_count": 61,
   "id": "8fcf36de-3e41-43cb-9277-da7005530b43",
   "metadata": {},
   "outputs": [
    {
     "data": {
      "text/plain": [
       "array([[345.        ,  11.        ],\n",
       "       [ 97.1       ,  30.05      ],\n",
       "       [536.        ,  93.35294118],\n",
       "       [421.11111111, 132.72222222],\n",
       "       [232.28571429, 150.5       ],\n",
       "       [519.5       , 177.        ],\n",
       "       [ 96.5       , 219.5       ],\n",
       "       [301.        , 267.5       ],\n",
       "       [457.        , 320.5       ],\n",
       "       [220.        , 376.5       ],\n",
       "       [255.77777778, 380.94444444],\n",
       "       [465.23529412, 408.94117647],\n",
       "       [ 66.35294118, 419.        ],\n",
       "       [531.88888889, 422.83333333],\n",
       "       [303.5       , 431.        ]])"
      ]
     },
     "execution_count": 61,
     "metadata": {},
     "output_type": "execute_result"
    }
   ],
   "source": [
    "socks_centers"
   ]
  },
  {
   "cell_type": "code",
   "execution_count": 157,
   "id": "4484a123-9fcc-4e4e-bf11-adc95ec30250",
   "metadata": {},
   "outputs": [],
   "source": [
    "import numpy as np\n",
    "def angle_difference(angle1, angle2):\n",
    "    delta_angle = angle1 - angle2\n",
    "    return (delta_angle + np.pi) % (2 * np.pi) - np.pi\n",
    "\n",
    "import numpy as np\n",
    "def angle_difference2(angle1, angle2):\n",
    "    delta_angle = angle1 - angle2\n",
    "    delta_angle = (delta_angle + 180) % 360 - 180\n",
    "    return delta_angle"
   ]
  },
  {
   "cell_type": "code",
   "execution_count": 158,
   "id": "a2916336-bb21-45cd-a361-46dd58dd55c3",
   "metadata": {},
   "outputs": [
    {
     "data": {
      "text/plain": [
       "-3.1315926535897933"
      ]
     },
     "execution_count": 158,
     "metadata": {},
     "output_type": "execute_result"
    }
   ],
   "source": [
    "angle_difference(-np.pi/2, (np.pi/2-0.01))"
   ]
  },
  {
   "cell_type": "code",
   "execution_count": 159,
   "id": "c313fbf2-0cfd-47ef-a25e-22d45bf590b5",
   "metadata": {},
   "outputs": [
    {
     "data": {
      "text/plain": [
       "-180"
      ]
     },
     "execution_count": 159,
     "metadata": {},
     "output_type": "execute_result"
    }
   ],
   "source": [
    "angle_difference2(-90, 90)"
   ]
  },
  {
   "cell_type": "code",
   "execution_count": 160,
   "id": "dd603149-6c50-4aaf-8e8e-6ef86ed2067f",
   "metadata": {},
   "outputs": [
    {
     "data": {
      "text/plain": [
       "-3.141592653589793"
      ]
     },
     "execution_count": 160,
     "metadata": {},
     "output_type": "execute_result"
    }
   ],
   "source": [
    "angle_difference2(-90, 90) / 180 * np.pi"
   ]
  },
  {
   "cell_type": "code",
   "execution_count": 161,
   "id": "61425f97-a972-499c-9df4-be4790993f10",
   "metadata": {},
   "outputs": [],
   "source": [
    "def warp_angle(angle):\n",
    "    return (angle + np.pi) % (2 * np.pi) - np.pi"
   ]
  },
  {
   "cell_type": "code",
   "execution_count": 150,
   "id": "47c25fdf-c79f-4f4c-8035-c96bd30d5f37",
   "metadata": {},
   "outputs": [
    {
     "data": {
      "text/plain": [
       "3.1315926535897933"
      ]
     },
     "execution_count": 150,
     "metadata": {},
     "output_type": "execute_result"
    }
   ],
   "source": [
    "warp_angle(-np.pi/2 - (np.pi/2+0.01))"
   ]
  },
  {
   "cell_type": "code",
   "execution_count": null,
   "id": "11828664-14d5-4c95-b3ac-96378dd5a856",
   "metadata": {},
   "outputs": [],
   "source": []
  }
 ],
 "metadata": {
  "kernelspec": {
   "display_name": "Python 3 (ipykernel)",
   "language": "python",
   "name": "python3"
  },
  "language_info": {
   "codemirror_mode": {
    "name": "ipython",
    "version": 3
   },
   "file_extension": ".py",
   "mimetype": "text/x-python",
   "name": "python",
   "nbconvert_exporter": "python",
   "pygments_lexer": "ipython3",
   "version": "3.8.12"
  }
 },
 "nbformat": 4,
 "nbformat_minor": 5
}
